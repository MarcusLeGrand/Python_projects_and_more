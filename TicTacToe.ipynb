{
  "nbformat": 4,
  "nbformat_minor": 0,
  "metadata": {
    "colab": {
      "name": "TicTacToe.ipynb",
      "provenance": [],
      "authorship_tag": "ABX9TyNHqcLpLFxAR93VNtAmyRDf",
      "include_colab_link": true
    },
    "kernelspec": {
      "name": "python3",
      "display_name": "Python 3"
    }
  },
  "cells": [
    {
      "cell_type": "markdown",
      "metadata": {
        "id": "view-in-github",
        "colab_type": "text"
      },
      "source": [
        "<a href=\"https://colab.research.google.com/github/SansBasnet/Things_built_with_Python/blob/master/TicTacToe.ipynb\" target=\"_parent\"><img src=\"https://colab.research.google.com/assets/colab-badge.svg\" alt=\"Open In Colab\"/></a>"
      ]
    },
    {
      "cell_type": "code",
      "metadata": {
        "id": "-iwmkoI-Gfbb",
        "colab_type": "code",
        "colab": {
          "base_uri": "https://localhost:8080/",
          "height": 170
        },
        "outputId": "9dc60f88-6ad3-4757-8016-30d38b6bee7e"
      },
      "source": [
        "from IPython.display import clear_output\n",
        "import random\n",
        "\n",
        "# Global variables\n",
        "theBoard = [' '] * 10   # a list of empty spaces\n",
        "available = [str(num) for num in range(0,10)] # a List Comprehension\n",
        "players = [0,'X','O']   # note that players[1] == 'X' and players[-1] == 'O'\n",
        "\n",
        "\n",
        "def display_board(a,b):\n",
        "    print('Available   TIC-TAC-TOE\\n'+\n",
        "           '  moves\\n\\n  '+\n",
        "          a[7]+'|'+a[8]+'|'+a[9]+'        '+b[7]+'|'+b[8]+'|'+b[9]+'\\n  '+\n",
        "          '-----        -----\\n  '+\n",
        "          a[4]+'|'+a[5]+'|'+a[6]+'        '+b[4]+'|'+b[5]+'|'+b[6]+'\\n  '+\n",
        "          '-----        -----\\n  '+\n",
        "          a[1]+'|'+a[2]+'|'+a[3]+'        '+b[1]+'|'+b[2]+'|'+b[3]+'\\n')\n",
        "display_board(available,theBoard)"
      ],
      "execution_count": 1,
      "outputs": [
        {
          "output_type": "stream",
          "text": [
            "Available   TIC-TAC-TOE\n",
            "  moves\n",
            "\n",
            "  7|8|9         | | \n",
            "  -----        -----\n",
            "  4|5|6         | | \n",
            "  -----        -----\n",
            "  1|2|3         | | \n",
            "\n"
          ],
          "name": "stdout"
        }
      ]
    },
    {
      "cell_type": "code",
      "metadata": {
        "id": "G-ijnqTpGkaE",
        "colab_type": "code",
        "colab": {
          "base_uri": "https://localhost:8080/",
          "height": 170
        },
        "outputId": "66694c3d-a874-483f-ce45-73db195f52dc"
      },
      "source": [
        "def display_board(a,b):\n",
        "    print(f'Available   TIC-TAC-TOE\\n  moves\\n\\n  {a[7]}|{a[8]}|{a[9]}        {b[7]}|{b[8]}|{b[9]}\\n  -----        -----\\n  {a[4]}|{a[5]}|{a[6]}        {b[4]}|{b[5]}|{b[6]}\\n  -----        -----\\n  {a[1]}|{a[2]}|{a[3]}        {b[1]}|{b[2]}|{b[3]}\\n')\n",
        "display_board(available,theBoard)"
      ],
      "execution_count": 2,
      "outputs": [
        {
          "output_type": "stream",
          "text": [
            "Available   TIC-TAC-TOE\n",
            "  moves\n",
            "\n",
            "  7|8|9         | | \n",
            "  -----        -----\n",
            "  4|5|6         | | \n",
            "  -----        -----\n",
            "  1|2|3         | | \n",
            "\n"
          ],
          "name": "stdout"
        }
      ]
    },
    {
      "cell_type": "code",
      "metadata": {
        "id": "NJkEjTkrGohd",
        "colab_type": "code",
        "colab": {}
      },
      "source": [
        "def place_marker(avail,board,marker,position):\n",
        "    board[position] = marker\n",
        "    avail[position] = ' '\n",
        "\n",
        "\n",
        "def win_check(board,mark):\n",
        "\n",
        "    return ((board[7] ==  board[8] ==  board[9] == mark) or # across the top\n",
        "    (board[4] ==  board[5] ==  board[6] == mark) or # across the middle\n",
        "    (board[1] ==  board[2] ==  board[3] == mark) or # across the bottom\n",
        "    (board[7] ==  board[4] ==  board[1] == mark) or # down the middle\n",
        "    (board[8] ==  board[5] ==  board[2] == mark) or # down the middle\n",
        "    (board[9] ==  board[6] ==  board[3] == mark) or # down the right side\n",
        "    (board[7] ==  board[5] ==  board[3] == mark) or # diagonal\n",
        "    (board[9] ==  board[5] ==  board[1] == mark)) # diagonal\n",
        "\n",
        "def random_player():\n",
        "    return random.choice((-1, 1))\n",
        "    \n",
        "def space_check(board,position):\n",
        "    return board[position] == ' '\n",
        "\n",
        "def full_board_check(board):\n",
        "    return ' ' not in board[1:]\n",
        "\n",
        "def player_choice(board,player):\n",
        "    position = 0\n",
        "    \n",
        "    while position not in [1,2,3,4,5,6,7,8,9] or not space_check(board, position):\n",
        "        try:\n",
        "            position = int(input('Player %s, choose your next position: (1-9) '%(player)))\n",
        "        except:\n",
        "            print(\"I'm sorry, please try again.\")\n",
        "        \n",
        "    return position"
      ],
      "execution_count": 0,
      "outputs": []
    },
    {
      "cell_type": "code",
      "metadata": {
        "id": "bkY6WgLAGwJ-",
        "colab_type": "code",
        "colab": {
          "base_uri": "https://localhost:8080/",
          "height": 294
        },
        "outputId": "2504b9bf-c235-4fe4-b1dc-5a0b39520382"
      },
      "source": [
        "def replay():\n",
        "    \n",
        "    return input('Do you want to play again? Enter Yes or No: ').lower().startswith('y')\n",
        "\n",
        "while True:\n",
        "    clear_output()\n",
        "    print('Welcome to Tic Tac Toe!')\n",
        "    \n",
        "    toggle = random_player()\n",
        "    player = players[toggle]\n",
        "    print('For this round, Player %s will go first!' %(player))\n",
        "    \n",
        "    game_on = True\n",
        "    input('Hit Enter to continue')\n",
        "    while game_on:\n",
        "        display_board(available,theBoard)\n",
        "        position = player_choice(theBoard,player)\n",
        "        place_marker(available,theBoard,player,position)\n",
        "\n",
        "        if win_check(theBoard, player):\n",
        "            display_board(available,theBoard)\n",
        "            print('Congratulations! Player '+player+' wins!')\n",
        "            game_on = False\n",
        "        else:\n",
        "            if full_board_check(theBoard):\n",
        "                display_board(available,theBoard)\n",
        "                print('The game is a draw!')\n",
        "                break\n",
        "            else:\n",
        "                toggle *= -1\n",
        "                player = players[toggle]\n",
        "                clear_output()\n",
        "\n",
        "    # reset the board and available moves list\n",
        "    theBoard = [' '] * 10\n",
        "    available = [str(num) for num in range(0,10)]\n",
        "    \n",
        "    if not replay():\n",
        "        break"
      ],
      "execution_count": 0,
      "outputs": [
        {
          "output_type": "stream",
          "text": [
            "I'm sorry, please try again.\n",
            "Player O, choose your next position: (1-9) 1\n",
            "Player O, choose your next position: (1-9) 2\n",
            "Player O, choose your next position: (1-9) 3\n",
            "Available   TIC-TAC-TOE\n",
            "  moves\n",
            "\n",
            "   |8|         O| |X\n",
            "  -----        -----\n",
            "  4| |6         |O| \n",
            "  -----        -----\n",
            "   | |         X|X|O\n",
            "\n",
            "Congratulations! Player O wins!\n"
          ],
          "name": "stdout"
        }
      ]
    },
    {
      "cell_type": "code",
      "metadata": {
        "id": "BqBlIlLAG1lh",
        "colab_type": "code",
        "colab": {}
      },
      "source": [
        ""
      ],
      "execution_count": 0,
      "outputs": []
    }
  ]
}