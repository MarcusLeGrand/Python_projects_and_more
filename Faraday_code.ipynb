{
  "nbformat": 4,
  "nbformat_minor": 0,
  "metadata": {
    "colab": {
      "name": "Faraday_code.ipynb",
      "provenance": [],
      "authorship_tag": "ABX9TyOYMoMKrrRPD5ID4x5vB0Zd"
    },
    "kernelspec": {
      "name": "python3",
      "display_name": "Python 3"
    },
    "language_info": {
      "name": "python"
    }
  },
  "cells": [
    {
      "cell_type": "code",
      "metadata": {
        "id": "j8KRk-_tTXnE"
      },
      "source": [
        "import pandas as pd\n",
        "import numpy as np\n",
        "import matplotlib.pyplot as plt"
      ],
      "execution_count": null,
      "outputs": []
    },
    {
      "cell_type": "code",
      "metadata": {
        "colab": {
          "base_uri": "https://localhost:8080/",
          "height": 348
        },
        "id": "IFkDtjvLTdq4",
        "outputId": "77d01852-4cce-414e-ac8d-9db44286c836"
      },
      "source": [
        "df = pd.read_csv('https://gist.githubusercontent.com/seamusabshere/b8d8c8a090528d205e237dec19a384df/raw/64d140ae666402aa29af54bf1590674675aaf9f8/age-responses.csv')\n",
        "df.head(10)"
      ],
      "execution_count": null,
      "outputs": [
        {
          "output_type": "execute_result",
          "data": {
            "text/html": [
              "<div>\n",
              "<style scoped>\n",
              "    .dataframe tbody tr th:only-of-type {\n",
              "        vertical-align: middle;\n",
              "    }\n",
              "\n",
              "    .dataframe tbody tr th {\n",
              "        vertical-align: top;\n",
              "    }\n",
              "\n",
              "    .dataframe thead th {\n",
              "        text-align: right;\n",
              "    }\n",
              "</style>\n",
              "<table border=\"1\" class=\"dataframe\">\n",
              "  <thead>\n",
              "    <tr style=\"text-align: right;\">\n",
              "      <th></th>\n",
              "      <th>older</th>\n",
              "      <th>younger</th>\n",
              "      <th>response</th>\n",
              "    </tr>\n",
              "  </thead>\n",
              "  <tbody>\n",
              "    <tr>\n",
              "      <th>0</th>\n",
              "      <td>38</td>\n",
              "      <td>34</td>\n",
              "      <td>False</td>\n",
              "    </tr>\n",
              "    <tr>\n",
              "      <th>1</th>\n",
              "      <td>46</td>\n",
              "      <td>45</td>\n",
              "      <td>False</td>\n",
              "    </tr>\n",
              "    <tr>\n",
              "      <th>2</th>\n",
              "      <td>80</td>\n",
              "      <td>73</td>\n",
              "      <td>True</td>\n",
              "    </tr>\n",
              "    <tr>\n",
              "      <th>3</th>\n",
              "      <td>53</td>\n",
              "      <td>48</td>\n",
              "      <td>True</td>\n",
              "    </tr>\n",
              "    <tr>\n",
              "      <th>4</th>\n",
              "      <td>42</td>\n",
              "      <td>30</td>\n",
              "      <td>False</td>\n",
              "    </tr>\n",
              "    <tr>\n",
              "      <th>5</th>\n",
              "      <td>60</td>\n",
              "      <td>44</td>\n",
              "      <td>False</td>\n",
              "    </tr>\n",
              "    <tr>\n",
              "      <th>6</th>\n",
              "      <td>47</td>\n",
              "      <td>45</td>\n",
              "      <td>True</td>\n",
              "    </tr>\n",
              "    <tr>\n",
              "      <th>7</th>\n",
              "      <td>58</td>\n",
              "      <td>58</td>\n",
              "      <td>True</td>\n",
              "    </tr>\n",
              "    <tr>\n",
              "      <th>8</th>\n",
              "      <td>38</td>\n",
              "      <td>36</td>\n",
              "      <td>False</td>\n",
              "    </tr>\n",
              "    <tr>\n",
              "      <th>9</th>\n",
              "      <td>47</td>\n",
              "      <td>46</td>\n",
              "      <td>False</td>\n",
              "    </tr>\n",
              "  </tbody>\n",
              "</table>\n",
              "</div>"
            ],
            "text/plain": [
              "   older  younger  response\n",
              "0     38       34     False\n",
              "1     46       45     False\n",
              "2     80       73      True\n",
              "3     53       48      True\n",
              "4     42       30     False\n",
              "5     60       44     False\n",
              "6     47       45      True\n",
              "7     58       58      True\n",
              "8     38       36     False\n",
              "9     47       46     False"
            ]
          },
          "metadata": {
            "tags": []
          },
          "execution_count": 2
        }
      ]
    },
    {
      "cell_type": "code",
      "metadata": {
        "id": "gyUhwhL5dJRN"
      },
      "source": [
        "newdf = df*1"
      ],
      "execution_count": null,
      "outputs": []
    },
    {
      "cell_type": "code",
      "metadata": {
        "colab": {
          "base_uri": "https://localhost:8080/",
          "height": 1000
        },
        "id": "ONUUDmHidf7l",
        "outputId": "6586cb93-21ce-40b8-a1e9-2432a71354db"
      },
      "source": [
        "newdf"
      ],
      "execution_count": null,
      "outputs": [
        {
          "output_type": "execute_result",
          "data": {
            "text/html": [
              "<div>\n",
              "<style scoped>\n",
              "    .dataframe tbody tr th:only-of-type {\n",
              "        vertical-align: middle;\n",
              "    }\n",
              "\n",
              "    .dataframe tbody tr th {\n",
              "        vertical-align: top;\n",
              "    }\n",
              "\n",
              "    .dataframe thead th {\n",
              "        text-align: right;\n",
              "    }\n",
              "</style>\n",
              "<table border=\"1\" class=\"dataframe\">\n",
              "  <thead>\n",
              "    <tr style=\"text-align: right;\">\n",
              "      <th></th>\n",
              "      <th>older</th>\n",
              "      <th>younger</th>\n",
              "      <th>response</th>\n",
              "    </tr>\n",
              "  </thead>\n",
              "  <tbody>\n",
              "    <tr>\n",
              "      <th>0</th>\n",
              "      <td>38</td>\n",
              "      <td>34</td>\n",
              "      <td>0</td>\n",
              "    </tr>\n",
              "    <tr>\n",
              "      <th>1</th>\n",
              "      <td>46</td>\n",
              "      <td>45</td>\n",
              "      <td>0</td>\n",
              "    </tr>\n",
              "    <tr>\n",
              "      <th>2</th>\n",
              "      <td>80</td>\n",
              "      <td>73</td>\n",
              "      <td>1</td>\n",
              "    </tr>\n",
              "    <tr>\n",
              "      <th>3</th>\n",
              "      <td>53</td>\n",
              "      <td>48</td>\n",
              "      <td>1</td>\n",
              "    </tr>\n",
              "    <tr>\n",
              "      <th>4</th>\n",
              "      <td>42</td>\n",
              "      <td>30</td>\n",
              "      <td>0</td>\n",
              "    </tr>\n",
              "    <tr>\n",
              "      <th>5</th>\n",
              "      <td>60</td>\n",
              "      <td>44</td>\n",
              "      <td>0</td>\n",
              "    </tr>\n",
              "    <tr>\n",
              "      <th>6</th>\n",
              "      <td>47</td>\n",
              "      <td>45</td>\n",
              "      <td>1</td>\n",
              "    </tr>\n",
              "    <tr>\n",
              "      <th>7</th>\n",
              "      <td>58</td>\n",
              "      <td>58</td>\n",
              "      <td>1</td>\n",
              "    </tr>\n",
              "    <tr>\n",
              "      <th>8</th>\n",
              "      <td>38</td>\n",
              "      <td>36</td>\n",
              "      <td>0</td>\n",
              "    </tr>\n",
              "    <tr>\n",
              "      <th>9</th>\n",
              "      <td>47</td>\n",
              "      <td>46</td>\n",
              "      <td>0</td>\n",
              "    </tr>\n",
              "    <tr>\n",
              "      <th>10</th>\n",
              "      <td>56</td>\n",
              "      <td>54</td>\n",
              "      <td>1</td>\n",
              "    </tr>\n",
              "    <tr>\n",
              "      <th>11</th>\n",
              "      <td>48</td>\n",
              "      <td>44</td>\n",
              "      <td>0</td>\n",
              "    </tr>\n",
              "    <tr>\n",
              "      <th>12</th>\n",
              "      <td>61</td>\n",
              "      <td>41</td>\n",
              "      <td>1</td>\n",
              "    </tr>\n",
              "    <tr>\n",
              "      <th>13</th>\n",
              "      <td>40</td>\n",
              "      <td>23</td>\n",
              "      <td>1</td>\n",
              "    </tr>\n",
              "    <tr>\n",
              "      <th>14</th>\n",
              "      <td>69</td>\n",
              "      <td>62</td>\n",
              "      <td>1</td>\n",
              "    </tr>\n",
              "    <tr>\n",
              "      <th>15</th>\n",
              "      <td>49</td>\n",
              "      <td>35</td>\n",
              "      <td>1</td>\n",
              "    </tr>\n",
              "    <tr>\n",
              "      <th>16</th>\n",
              "      <td>39</td>\n",
              "      <td>39</td>\n",
              "      <td>0</td>\n",
              "    </tr>\n",
              "    <tr>\n",
              "      <th>17</th>\n",
              "      <td>36</td>\n",
              "      <td>33</td>\n",
              "      <td>1</td>\n",
              "    </tr>\n",
              "    <tr>\n",
              "      <th>18</th>\n",
              "      <td>42</td>\n",
              "      <td>41</td>\n",
              "      <td>0</td>\n",
              "    </tr>\n",
              "    <tr>\n",
              "      <th>19</th>\n",
              "      <td>63</td>\n",
              "      <td>56</td>\n",
              "      <td>1</td>\n",
              "    </tr>\n",
              "    <tr>\n",
              "      <th>20</th>\n",
              "      <td>38</td>\n",
              "      <td>37</td>\n",
              "      <td>1</td>\n",
              "    </tr>\n",
              "    <tr>\n",
              "      <th>21</th>\n",
              "      <td>49</td>\n",
              "      <td>45</td>\n",
              "      <td>1</td>\n",
              "    </tr>\n",
              "    <tr>\n",
              "      <th>22</th>\n",
              "      <td>68</td>\n",
              "      <td>66</td>\n",
              "      <td>0</td>\n",
              "    </tr>\n",
              "    <tr>\n",
              "      <th>23</th>\n",
              "      <td>63</td>\n",
              "      <td>44</td>\n",
              "      <td>1</td>\n",
              "    </tr>\n",
              "    <tr>\n",
              "      <th>24</th>\n",
              "      <td>73</td>\n",
              "      <td>63</td>\n",
              "      <td>0</td>\n",
              "    </tr>\n",
              "    <tr>\n",
              "      <th>25</th>\n",
              "      <td>31</td>\n",
              "      <td>27</td>\n",
              "      <td>1</td>\n",
              "    </tr>\n",
              "    <tr>\n",
              "      <th>26</th>\n",
              "      <td>26</td>\n",
              "      <td>26</td>\n",
              "      <td>1</td>\n",
              "    </tr>\n",
              "    <tr>\n",
              "      <th>27</th>\n",
              "      <td>65</td>\n",
              "      <td>65</td>\n",
              "      <td>1</td>\n",
              "    </tr>\n",
              "    <tr>\n",
              "      <th>28</th>\n",
              "      <td>39</td>\n",
              "      <td>37</td>\n",
              "      <td>1</td>\n",
              "    </tr>\n",
              "    <tr>\n",
              "      <th>29</th>\n",
              "      <td>72</td>\n",
              "      <td>71</td>\n",
              "      <td>0</td>\n",
              "    </tr>\n",
              "    <tr>\n",
              "      <th>30</th>\n",
              "      <td>48</td>\n",
              "      <td>43</td>\n",
              "      <td>0</td>\n",
              "    </tr>\n",
              "    <tr>\n",
              "      <th>31</th>\n",
              "      <td>57</td>\n",
              "      <td>42</td>\n",
              "      <td>1</td>\n",
              "    </tr>\n",
              "    <tr>\n",
              "      <th>32</th>\n",
              "      <td>72</td>\n",
              "      <td>67</td>\n",
              "      <td>0</td>\n",
              "    </tr>\n",
              "    <tr>\n",
              "      <th>33</th>\n",
              "      <td>68</td>\n",
              "      <td>66</td>\n",
              "      <td>0</td>\n",
              "    </tr>\n",
              "    <tr>\n",
              "      <th>34</th>\n",
              "      <td>54</td>\n",
              "      <td>49</td>\n",
              "      <td>1</td>\n",
              "    </tr>\n",
              "    <tr>\n",
              "      <th>35</th>\n",
              "      <td>68</td>\n",
              "      <td>64</td>\n",
              "      <td>0</td>\n",
              "    </tr>\n",
              "    <tr>\n",
              "      <th>36</th>\n",
              "      <td>55</td>\n",
              "      <td>47</td>\n",
              "      <td>1</td>\n",
              "    </tr>\n",
              "  </tbody>\n",
              "</table>\n",
              "</div>"
            ],
            "text/plain": [
              "    older  younger  response\n",
              "0      38       34         0\n",
              "1      46       45         0\n",
              "2      80       73         1\n",
              "3      53       48         1\n",
              "4      42       30         0\n",
              "5      60       44         0\n",
              "6      47       45         1\n",
              "7      58       58         1\n",
              "8      38       36         0\n",
              "9      47       46         0\n",
              "10     56       54         1\n",
              "11     48       44         0\n",
              "12     61       41         1\n",
              "13     40       23         1\n",
              "14     69       62         1\n",
              "15     49       35         1\n",
              "16     39       39         0\n",
              "17     36       33         1\n",
              "18     42       41         0\n",
              "19     63       56         1\n",
              "20     38       37         1\n",
              "21     49       45         1\n",
              "22     68       66         0\n",
              "23     63       44         1\n",
              "24     73       63         0\n",
              "25     31       27         1\n",
              "26     26       26         1\n",
              "27     65       65         1\n",
              "28     39       37         1\n",
              "29     72       71         0\n",
              "30     48       43         0\n",
              "31     57       42         1\n",
              "32     72       67         0\n",
              "33     68       66         0\n",
              "34     54       49         1\n",
              "35     68       64         0\n",
              "36     55       47         1"
            ]
          },
          "metadata": {
            "tags": []
          },
          "execution_count": 4
        }
      ]
    },
    {
      "cell_type": "code",
      "metadata": {
        "id": "5MrwvP-GdkYa"
      },
      "source": [
        "X = newdf.iloc[:,:-1].values\n",
        "y = newdf.iloc[:,-1].values\n"
      ],
      "execution_count": null,
      "outputs": []
    },
    {
      "cell_type": "code",
      "metadata": {
        "id": "W7PPhto3TgjQ"
      },
      "source": [
        "from sklearn.model_selection import train_test_split\n",
        "X_train, X_test, y_train, y_test = train_test_split(X, y, test_size = 0.25, random_state = 0)"
      ],
      "execution_count": null,
      "outputs": []
    },
    {
      "cell_type": "code",
      "metadata": {
        "colab": {
          "base_uri": "https://localhost:8080/"
        },
        "id": "UYhB4rfJZTm2",
        "outputId": "ee4bebe7-7042-4887-fdef-ebc9b09caed1"
      },
      "source": [
        "print(y_test)"
      ],
      "execution_count": null,
      "outputs": [
        {
          "output_type": "stream",
          "text": [
            "[0 1 0 1 1 1 1 0 1 1]\n"
          ],
          "name": "stdout"
        }
      ]
    },
    {
      "cell_type": "code",
      "metadata": {
        "colab": {
          "base_uri": "https://localhost:8080/"
        },
        "id": "JsxIm1CFbpy7",
        "outputId": "6452f39b-b3e2-4427-9579-a798961908f6"
      },
      "source": [
        "\n",
        "#Feature scaling\n",
        "from sklearn.preprocessing import StandardScaler\n",
        "sc = StandardScaler()\n",
        "X_train = sc.fit_transform(X_train)\n",
        "X_test = sc.fit_transform(X_test)\n",
        "print(X_train)\n",
        "print(X_test)"
      ],
      "execution_count": null,
      "outputs": [
        {
          "output_type": "stream",
          "text": [
            "[[-0.45874283 -0.37460082]\n",
            " [ 1.43466706  1.47838643]\n",
            " [ 0.09350172 -0.06576961]\n",
            " [ 0.01460964  0.08864599]\n",
            " [ 1.43466706  1.78721764]\n",
            " [ 1.11909875  1.40117863]\n",
            " [-1.24766362 -0.91505543]\n",
            " [-1.08987946 -1.91875686]\n",
            " [ 0.48796212 -0.29739302]\n",
            " [-1.40544778 -1.14667884]\n",
            " [ 1.19799083  1.09234742]\n",
            " [ 0.33017796  0.78351621]\n",
            " [ 0.88242251  1.32397083]\n",
            " [-0.61652699 -0.22018521]\n",
            " [ 0.5668542  -0.52901642]\n",
            " [-2.19436856 -1.68713345]\n",
            " [ 1.51355914  1.16955522]\n",
            " [-0.53763491 -0.22018521]\n",
            " [ 0.72463835 -0.29739302]\n",
            " [-0.9320953  -1.37830224]\n",
            " [-0.9320953  -0.52901642]\n",
            " [-0.37985075 -0.22018521]\n",
            " [ 0.72463835  0.62910061]\n",
            " [-0.53763491 -0.14297741]\n",
            " [ 1.11909875  1.24676303]\n",
            " [-0.06428243  0.01143819]\n",
            " [-1.24766362 -1.06947104]]\n",
            "[[ 1.21972693  1.49353809]\n",
            " [-0.87123352 -0.60901553]\n",
            " [-0.80153484 -0.46401183]\n",
            " [ 0.38334275  0.6235159 ]\n",
            " [ 0.45304143 -0.24650629]\n",
            " [-0.80153484 -0.60901553]\n",
            " [-0.10454802 -0.75401923]\n",
            " [-0.1742467  -0.10150259]\n",
            " [ 2.05611111  2.00105103]\n",
            " [-1.35912429 -1.33403402]]\n"
          ],
          "name": "stdout"
        }
      ]
    },
    {
      "cell_type": "code",
      "metadata": {
        "colab": {
          "base_uri": "https://localhost:8080/"
        },
        "id": "kZeA0BpMYd33",
        "outputId": "eaf00e28-beac-49ab-b0a1-f8b95283a795"
      },
      "source": [
        "from sklearn.tree import DecisionTreeClassifier\n",
        "classifier = DecisionTreeClassifier(criterion = 'entropy', random_state=0)\n",
        "classifier.fit(X_train, y_train)"
      ],
      "execution_count": null,
      "outputs": [
        {
          "output_type": "execute_result",
          "data": {
            "text/plain": [
              "DecisionTreeClassifier(ccp_alpha=0.0, class_weight=None, criterion='entropy',\n",
              "                       max_depth=None, max_features=None, max_leaf_nodes=None,\n",
              "                       min_impurity_decrease=0.0, min_impurity_split=None,\n",
              "                       min_samples_leaf=1, min_samples_split=2,\n",
              "                       min_weight_fraction_leaf=0.0, presort='deprecated',\n",
              "                       random_state=0, splitter='best')"
            ]
          },
          "metadata": {
            "tags": []
          },
          "execution_count": 9
        }
      ]
    },
    {
      "cell_type": "code",
      "metadata": {
        "colab": {
          "base_uri": "https://localhost:8080/"
        },
        "id": "ZyQAo3fTc2lq",
        "outputId": "725ccf53-0f6f-4e00-d5a8-018c42f83b75"
      },
      "source": [
        "#Predicting new result\n",
        "print(classifier.predict(sc.transform([[38,36]])))"
      ],
      "execution_count": null,
      "outputs": [
        {
          "output_type": "stream",
          "text": [
            "[0]\n"
          ],
          "name": "stdout"
        }
      ]
    },
    {
      "cell_type": "code",
      "metadata": {
        "colab": {
          "base_uri": "https://localhost:8080/"
        },
        "id": "Lz2jNMiHcm2R",
        "outputId": "8c62c72e-6c6c-4d84-a2e0-d6a3a62ac74e"
      },
      "source": [
        "#predicting Test results\n",
        "y_pred = classifier.predict(X_test)\n",
        "print(np.concatenate((y_pred.reshape(len(y_pred),1), y_test.reshape(len(y_test),1)),1))"
      ],
      "execution_count": null,
      "outputs": [
        {
          "output_type": "stream",
          "text": [
            "[[0 0]\n",
            " [0 1]\n",
            " [0 0]\n",
            " [1 1]\n",
            " [1 1]\n",
            " [0 1]\n",
            " [0 1]\n",
            " [1 0]\n",
            " [0 1]\n",
            " [1 1]]\n"
          ],
          "name": "stdout"
        }
      ]
    },
    {
      "cell_type": "code",
      "metadata": {
        "colab": {
          "base_uri": "https://localhost:8080/"
        },
        "id": "Fy_I3hCCZ8RN",
        "outputId": "9c907ac1-4ad0-4cd7-86d2-7c5abb9ce06d"
      },
      "source": [
        "#Confusion matrix\n",
        "from sklearn.metrics import confusion_matrix, accuracy_score\n",
        "cm = confusion_matrix(y_test, y_pred)\n",
        "print(cm)\n",
        "accuracy_score(y_test, y_pred)"
      ],
      "execution_count": null,
      "outputs": [
        {
          "output_type": "stream",
          "text": [
            "[[2 1]\n",
            " [4 3]]\n"
          ],
          "name": "stdout"
        },
        {
          "output_type": "execute_result",
          "data": {
            "text/plain": [
              "0.5"
            ]
          },
          "metadata": {
            "tags": []
          },
          "execution_count": 12
        }
      ]
    },
    {
      "cell_type": "code",
      "metadata": {
        "colab": {
          "base_uri": "https://localhost:8080/",
          "height": 349
        },
        "id": "SSjhDaUHZQ85",
        "outputId": "ab0ccb17-5540-4490-a0cd-3158df2bb87c"
      },
      "source": [
        "#Visualizing \n",
        "\n",
        "from matplotlib.colors import ListedColormap\n",
        "X_set, y_set = sc.inverse_transform(X_train), y_train\n",
        "X1, X2 = np.meshgrid(np.arange(start = X_set[:, 0].min() - 1, stop = X_set[:, 0].max() + 1, step = 0.25),\n",
        "                     np.arange(start = X_set[:, 1].min() - 20, stop = X_set[:, 1].max() + 20, step = 0.25))\n",
        "plt.contourf(X1, X2, classifier.predict(sc.transform(np.array([X1.ravel(), X2.ravel()]).T)).reshape(X1.shape),\n",
        "             alpha = 0.75, cmap = ListedColormap(('darkorchid', 'yellow')))\n",
        "plt.xlim(X1.min(), X1.max())\n",
        "plt.ylim(X2.min(), X2.max())\n",
        "for i, j in enumerate(np.unique(y_set)):\n",
        "    plt.scatter(X_set[y_set == j, 0], X_set[y_set == j, 1], c = ListedColormap(('purple', 'darkorange'))(i), label = j)\n",
        "plt.title('Training set')\n",
        "plt.xlabel('Older Age')\n",
        "plt.ylabel('Younger Age')\n",
        "plt.legend()\n",
        "plt.savefig('training_DT.png', dpi=150)\n",
        "plt.show()"
      ],
      "execution_count": null,
      "outputs": [
        {
          "output_type": "stream",
          "text": [
            "*c* argument looks like a single numeric RGB or RGBA sequence, which should be avoided as value-mapping will have precedence in case its length matches with *x* & *y*.  Please use the *color* keyword-argument or provide a 2-D array with a single row if you intend to specify the same RGB or RGBA value for all points.\n",
            "*c* argument looks like a single numeric RGB or RGBA sequence, which should be avoided as value-mapping will have precedence in case its length matches with *x* & *y*.  Please use the *color* keyword-argument or provide a 2-D array with a single row if you intend to specify the same RGB or RGBA value for all points.\n"
          ],
          "name": "stderr"
        },
        {
          "output_type": "display_data",
          "data": {
            "image/png": "[encoded data removed]",
            "text/plain": [
              "<Figure size 432x288 with 1 Axes>"
            ]
          },
          "metadata": {
            "tags": [],
            "needs_background": "light"
          }
        }
      ]
    },
    {
      "cell_type": "code",
      "metadata": {
        "colab": {
          "base_uri": "https://localhost:8080/",
          "height": 349
        },
        "id": "4pFf9IXdaFuY",
        "outputId": "3bbb6679-e984-41d7-e4d5-b27f232eea70"
      },
      "source": [
        "# Visualising the Test set results\n",
        "from matplotlib.colors import ListedColormap\n",
        "X_set, y_set = sc.inverse_transform(X_test), y_test\n",
        "X1, X2 = np.meshgrid(np.arange(start = X_set[:, 0].min() - 10, stop = X_set[:, 0].max() + 10, step = 0.25),\n",
        "                     np.arange(start = X_set[:, 1].min() - 50, stop = X_set[:, 1].max() + 50, step = 0.25))\n",
        "plt.contourf(X1, X2, classifier.predict(sc.transform(np.array([X1.ravel(), X2.ravel()]).T)).reshape(X1.shape),\n",
        "             alpha = 0.75, cmap = ListedColormap(('yellowgreen', 'yellow')))\n",
        "plt.xlim(X1.min(), X1.max())\n",
        "plt.ylim(X2.min(), X2.max())\n",
        "for i, j in enumerate(np.unique(y_set)):\n",
        "    plt.scatter(X_set[y_set == j, 0], X_set[y_set == j, 1], c = ListedColormap(('green', 'darkorange'))(i), label = j)\n",
        "plt.title('Test set')\n",
        "plt.xlabel('Older Age')\n",
        "plt.ylabel('Younger Age')\n",
        "plt.legend()\n",
        "plt.savefig('test.png', dpi=150)\n",
        "plt.show()"
      ],
      "execution_count": null,
      "outputs": [
        {
          "output_type": "stream",
          "text": [
            "*c* argument looks like a single numeric RGB or RGBA sequence, which should be avoided as value-mapping will have precedence in case its length matches with *x* & *y*.  Please use the *color* keyword-argument or provide a 2-D array with a single row if you intend to specify the same RGB or RGBA value for all points.\n",
            "*c* argument looks like a single numeric RGB or RGBA sequence, which should be avoided as value-mapping will have precedence in case its length matches with *x* & *y*.  Please use the *color* keyword-argument or provide a 2-D array with a single row if you intend to specify the same RGB or RGBA value for all points.\n"
          ],
          "name": "stderr"
        },
        {
          "output_type": "display_data",
          "data": {
            "image/png": "[encoded data removed]",
            "text/plain": [
              "<Figure size 432x288 with 1 Axes>"
            ]
          },
          "metadata": {
            "tags": [],
            "needs_background": "light"
          }
        }
      ]
    },
    {
      "cell_type": "markdown",
      "metadata": {
        "id": "OR-e0MsSoxdD"
      },
      "source": [
        "Naive Bayes also assumes that the features are conditionally independent. Real data sets are never perfectly independent but they can be close. In short Naive Bayes has a higher bias but lower variance compared to logistic regression. If the data set follows the bias then Naive Bayes will be a better classifier. Both Naive Bayes and Logistic regression are linear classifiers, Logistic Regression makes a prediction for the probability using a direct functional form where as Naive Bayes figures out how the data was generated given the results."
      ]
    },
    {
      "cell_type": "markdown",
      "metadata": {
        "id": "-rNQWAuYl1bs"
      },
      "source": [
        "#Expected value \n",
        "\n",
        "In probability space, the average value of some random variable X is called the expected value or the expectation."
      ]
    },
    {
      "cell_type": "code",
      "metadata": {
        "colab": {
          "base_uri": "https://localhost:8080/"
        },
        "id": "4oath-ZYx6qg",
        "outputId": "7165fdf2-f9c3-4bae-ce7f-e9a3030b3024"
      },
      "source": [
        "# Generating Gaussian distribution for a particular state with \n",
        "import numpy as np\n",
        "import random\n",
        "df_row = np.random.normal(loc=5.0, size=190)\n",
        "df = np.around(df_row, decimals=1)\n",
        "df\n",
        "\n",
        "#Vermont has 0.19% of the total US population so 190 instants. This is X in our Colummn. "
      ],
      "execution_count": null,
      "outputs": [
        {
          "output_type": "execute_result",
          "data": {
            "text/plain": [
              "array([5.4, 5. , 5.8, 2.9, 6.1, 4.2, 8. , 4.4, 5.8, 5.4, 5.7, 4.4, 4.6,\n",
              "       4.1, 4.1, 4.3, 5. , 5.1, 5.7, 4.4, 5.3, 6.9, 5.5, 5.3, 6. , 3.5,\n",
              "       4.1, 6.8, 5.7, 3.1, 6.6, 4.7, 5.7, 4.9, 5.3, 3.6, 4.4, 4. , 4.3,\n",
              "       5. , 3.7, 6.2, 4.6, 4.8, 4.5, 3.9, 4.4, 5.3, 4.7, 5.6, 6.7, 5.1,\n",
              "       3.5, 4.2, 3.2, 5.3, 5.9, 4.3, 4.5, 3.5, 6. , 6.4, 4.6, 5.5, 5.2,\n",
              "       5.5, 3. , 3.6, 4. , 3.6, 5.4, 4.4, 5.8, 6.4, 3.1, 4.1, 5.4, 6.6,\n",
              "       5.4, 4.9, 4.1, 4.1, 4.4, 4.8, 5.7, 4.9, 6. , 5.6, 4.3, 4.1, 3.9,\n",
              "       2.4, 3.7, 4.8, 5.3, 4.6, 5.5, 3.6, 5.6, 3.4, 4.2, 5.5, 5.7, 3.8,\n",
              "       5. , 5.3, 5.6, 6.4, 4.2, 3. , 5.4, 5.4, 4.8, 5.8, 2.9, 4.8, 5.2,\n",
              "       5.5, 4.5, 5.2, 4.7, 2.7, 3.7, 4.3, 5.7, 4.8, 4.3, 4.2, 5.5, 4.8,\n",
              "       4.6, 4. , 5.3, 4.4, 5.5, 4.7, 4.1, 5.4, 5.6, 4.5, 5.3, 4.1, 6. ,\n",
              "       6.2, 3.4, 5.4, 4.9, 6.4, 4.4, 4.8, 4.7, 4.7, 3.9, 3.8, 5.1, 4.1,\n",
              "       4.9, 5.4, 4.7, 5.2, 3.3, 4.7, 5.5, 5.6, 6.6, 4.9, 3.3, 6.6, 4. ,\n",
              "       6. , 4.5, 5.2, 5.5, 6. , 5.7, 5.9, 6.7, 5.8, 2.1, 4.5, 3.7, 5.9,\n",
              "       5.4, 5.7, 5.2, 6.6, 5.6, 5.4, 4.7, 6.2])"
            ]
          },
          "metadata": {
            "tags": []
          },
          "execution_count": 51
        }
      ]
    },
    {
      "cell_type": "code",
      "metadata": {
        "colab": {
          "base_uri": "https://localhost:8080/"
        },
        "id": "vQRD-bBRy7iT",
        "outputId": "f3d1ff8a-8c6e-4c32-b588-84d3d60d9af2"
      },
      "source": [
        "Prob = np.sum(df)/190\n",
        "Prob"
      ],
      "execution_count": null,
      "outputs": [
        {
          "output_type": "execute_result",
          "data": {
            "text/plain": [
              "4.894210526315789"
            ]
          },
          "metadata": {
            "tags": []
          },
          "execution_count": 52
        }
      ]
    },
    {
      "cell_type": "markdown",
      "metadata": {
        "id": "m-lZH2PF6rXd"
      },
      "source": [
        "Expected Value of $4.9 is correct estimate. Let's find the confidence level to show the point estimate confidence. "
      ]
    },
    {
      "cell_type": "code",
      "metadata": {
        "colab": {
          "base_uri": "https://localhost:8080/"
        },
        "id": "nRYB-TGQ6M-z",
        "outputId": "6c3f4c93-74c2-4dac-b183-cf72029c0c20"
      },
      "source": [
        "s = (df - 190)**2 \n",
        "\n",
        "add_element = np.sum(s)\n",
        "\n",
        "total_sample = np.sqrt(add_element/189)\n",
        "\n",
        "sum = (0.95*total_sample)/np.sqrt(190)\n",
        "CI = Prob + sum\n",
        "\n",
        "print(CI)"
      ],
      "execution_count": null,
      "outputs": [
        {
          "output_type": "stream",
          "text": [
            "17.685630242147212\n"
          ],
          "name": "stdout"
        }
      ]
    }
  ]
}